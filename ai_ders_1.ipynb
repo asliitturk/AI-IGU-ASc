{
  "nbformat": 4,
  "nbformat_minor": 0,
  "metadata": {
    "colab": {
      "provenance": []
    },
    "kernelspec": {
      "name": "python3",
      "display_name": "Python 3"
    },
    "language_info": {
      "name": "python"
    }
  },
  "cells": [
    {
      "cell_type": "markdown",
      "source": [
        "*03.10.2024* - IGU MYO BILGISAYAR TEKNOLOJISI PROGRAMI AI DERSI ( 1.Hafta )"
      ],
      "metadata": {
        "id": "pY9pdfl0YNPB"
      }
    },
    {
      "cell_type": "code",
      "execution_count": null,
      "metadata": {
        "id": "Scv4GWHAXftM",
        "colab": {
          "base_uri": "https://localhost:8080/"
        },
        "outputId": "dd9ba868-865c-47c3-ffbb-4ea6cd42e497"
      },
      "outputs": [
        {
          "output_type": "stream",
          "name": "stdout",
          "text": [
            "hello world\n"
          ]
        }
      ],
      "source": [
        "print(\"hello world\")"
      ]
    },
    {
      "cell_type": "code",
      "source": [
        "import sys ## -- import =  python da kutuphane ekler.\n",
        "print(sys.version)"
      ],
      "metadata": {
        "colab": {
          "base_uri": "https://localhost:8080/"
        },
        "id": "dSPPklxsj6FN",
        "outputId": "b5e486f8-7ca2-40e5-8d16-613e476c31aa"
      },
      "execution_count": 5,
      "outputs": [
        {
          "output_type": "stream",
          "name": "stdout",
          "text": [
            "3.10.12 (main, Sep 11 2024, 15:47:36) [GCC 11.4.0]\n"
          ]
        }
      ]
    },
    {
      "cell_type": "code",
      "source": [
        "from google.colab import drive  ## -- google colab - drive baglantisi\n",
        "drive.mount('/content/drive')"
      ],
      "metadata": {
        "colab": {
          "base_uri": "https://localhost:8080/"
        },
        "id": "h7SLXcIGk8xi",
        "outputId": "eb90bc13-9942-42f7-b3d1-82752c490979"
      },
      "execution_count": 4,
      "outputs": [
        {
          "output_type": "stream",
          "name": "stdout",
          "text": [
            "Mounted at /content/drive\n"
          ]
        }
      ]
    },
    {
      "cell_type": "code",
      "source": [
        "import os\n",
        "os.chdir('/content/drive/My Drive/Ai_Ders_IGU_2024')\n",
        "!pwd ## -- bize kodun ciktisini dosya yolu olarak veren kod blogudur."
      ],
      "metadata": {
        "colab": {
          "base_uri": "https://localhost:8080/"
        },
        "id": "cyC4HZ7nmI0v",
        "outputId": "a8cb1375-dbbc-454a-9556-d26f46ab400c"
      },
      "execution_count": 6,
      "outputs": [
        {
          "output_type": "stream",
          "name": "stdout",
          "text": [
            "/content/drive/My Drive/Ai_Ders_IGU_2024\n"
          ]
        }
      ]
    }
  ]
}