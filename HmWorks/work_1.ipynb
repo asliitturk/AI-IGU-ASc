{
  "nbformat": 4,
  "nbformat_minor": 0,
  "metadata": {
    "colab": {
      "provenance": []
    },
    "kernelspec": {
      "name": "python3",
      "display_name": "Python 3"
    },
    "language_info": {
      "name": "python"
    }
  },
  "cells": [
    {
      "cell_type": "markdown",
      "source": [
        "**Lisans Arastirma** Odevi\n",
        "-*10.10.24 (dd.mm.yy)*"
      ],
      "metadata": {
        "id": "FOCsm6JwL2Mq"
      }
    },
    {
      "cell_type": "code",
      "execution_count": null,
      "metadata": {
        "id": "-whuSUAsvV2X"
      },
      "outputs": [],
      "source": [
        "## -- MIT\n",
        "# MIT lisansı, 1988 yılında Massachusetts Teknoloji Enstitüsü (MIT) tarafından hazırlanmış.\n",
        "# Çoğu araştırmaya göre günümüzden en sık kullanılan açık kaynak ve özgür yazılım lisansıdır.\n",
        "# Oldukça kısadır ve çok kullanışlıdır.\n",
        "# Kullanıcıların yazılımı özgürce kullanabileceği, dağıtabileceği, değiştirebileceği anlamına gelir.\n",
        "# Ancak bu kullanımda, yazılımın geliştiricisi herhangi bir sorumluluk kabul etmez;\n",
        "# eğer yazılımda bir sorun çıkarsa veya zarar görürlerse, dava edemezler.\n",
        "# En kısa özetiyle; “yazılımımla istediğini yap, sadece beni dava etme” demektedir ve telif feragatli (copyleft) değildir."
      ]
    },
    {
      "cell_type": "code",
      "source": [
        "## -- Apache  2.0\n",
        "# Apache Yazılım Vakfı (ASF) tarafından yayımlanan bir özgür yazılım lisansıdır\n",
        "# MIT Lisansı ile pek fark yoktur sadece patent hakları ile ilgili ek korumalar sağlar.\n",
        "# Kullanıcılara yazılımı özgürce kullanma ve dağıtma hakkı verir."
      ],
      "metadata": {
        "id": "itOaB_-Qw0tf"
      },
      "execution_count": null,
      "outputs": []
    },
    {
      "cell_type": "code",
      "source": [
        "## -- GNU Genel Kamu Lisansı (GPL)\n",
        "# İlk sürümü 1989 yılında Richard Stallman tarafından GNU Tasarısı için kaleme alınmıştır.\n",
        "# Üçüncü ve son sürüm ise  Özgür Yazılım Vakfı, Eben Moglen ve Yazılım Özgürlüğü Hukuk Merkezi tarafından kaleme alındı\n",
        "# Özgür yazılım topluluklarının çeşitli itiraz ve katkılarıyla son hâlini aldı.\n",
        "# Yazılımın özgürce dağıtılmasına ve değiştirilmesine izin verir,\n",
        "# Ancak değiştirilmiş versiyonların da aynı lisans altında dağıtılmasını zorunlu kılar (copyleft)."
      ],
      "metadata": {
        "id": "-dxIq7J9-gYZ"
      },
      "execution_count": null,
      "outputs": []
    },
    {
      "cell_type": "code",
      "source": [
        "## -- BSD Lisansı\n",
        "# BSD'nin ilk sahipleri Regents of the University of California'dır, çünkü BSD ilk defa Kaliforniya Üniversitesi, Berkeley'de yazılmıştır.\n",
        "# MIT lisansına benzer şekilde, yazılımın serbestçe kullanılmasına ve dağıtılmasına izin verir, fakat daha az kısıtlama getirir.\n",
        "# BSD lisansının en önemli özelliklerinden biri, lisanslı yazılımın kullanımı ve dağıtımına minimum kısıtlamalar getirmesidir.\n",
        "# Bu (bir BSD lisansı altında yayınlanan yazılımın) ticari kullanım da dahil olmak üzere herhangi bir amaç için kullanılabileceği anlamına gelir."
      ],
      "metadata": {
        "id": "4eN3u-f__CMT"
      },
      "execution_count": null,
      "outputs": []
    },
    {
      "cell_type": "code",
      "source": [
        "## -- Creative Commons (CC)\n",
        "# Lawrence Lessig ve Eric Eldred, Creative Commons Lisansını (CCL) 2001 yılında tasarladılar\n",
        "# çünkü mevcut telif hakkı ve kamu malı durumları arasında bir lisansa ihtiyaç olduğunu gördüler.\n",
        "# Lisansların 1.0 sürümü resmi olarak 16 Aralık 2002'de yayınlandı.\n",
        "# Genellikle içerik için kullanılır, ancak yazılım projelerinde de kullanılabilir.\n",
        "# Çeşitli alt lisansları ile farklı derecelerde kullanım ve paylaşım hakları sunar."
      ],
      "metadata": {
        "id": "APvztxReBInD"
      },
      "execution_count": null,
      "outputs": []
    },
    {
      "cell_type": "code",
      "source": [
        "## - Unlicense\n",
        "# Yazılımın telif hakkından feragat edilmesini sağlar; kullanıcılar yazılımı diledikleri gibi kullanabilir."
      ],
      "metadata": {
        "id": "owHw3q9PLiBU"
      },
      "execution_count": null,
      "outputs": []
    }
  ]
}